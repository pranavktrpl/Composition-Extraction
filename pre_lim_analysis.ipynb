{
 "cells": [
  {
   "cell_type": "code",
   "execution_count": 2,
   "metadata": {},
   "outputs": [],
   "source": [
    "import pandas as pd\n",
    "file_path = 'pii_groups.csv'\n",
    "\n",
    "df = pd.read_csv(file_path)\n",
    "# # for i in range(len(df)):\n",
    "# #     df[\"Table\"][i] = df[\"Table\"][i][1]\n",
    "\n",
    "# df.to_csv(file_path, index=False)\n"
   ]
  },
  {
   "cell_type": "code",
   "execution_count": 7,
   "metadata": {},
   "outputs": [
    {
     "data": {
      "application/vnd.jupyter.widget-view+json": {
       "model_id": "bc64ecb19c7a47daa7739f7873dfda64",
       "version_major": 2,
       "version_minor": 0
      },
      "text/plain": [
       "Output()"
      ]
     },
     "metadata": {},
     "output_type": "display_data"
    }
   ],
   "source": [
    "import pandas as pd\n",
    "from IPython.display import display, clear_output\n",
    "import ipywidgets as widgets\n",
    "\n",
    "def perform_manual_analysis(file_path, new_columns, question):\n",
    "    # Load the dataframe\n",
    "    df = pd.read_csv(file_path)\n",
    "    # Initialize new columns with 0 if they don't already exist\n",
    "    for col in new_columns:\n",
    "        if col not in df.columns:\n",
    "            df[col] = 0\n",
    "\n",
    "    # Current index\n",
    "    current_index = [0]  # Use list to make it mutable\n",
    "\n",
    "    # Output widget to hold the interactive elements\n",
    "    output = widgets.Output()\n",
    "\n",
    "    def process_row():\n",
    "        i = current_index[0]\n",
    "        if i >= len(df):\n",
    "            with output:\n",
    "                clear_output()\n",
    "                print(\"All rows have been processed.\")\n",
    "            return\n",
    "\n",
    "        row = df.iloc[i]\n",
    "        pii = row['PII']\n",
    "        tableNo = row['Table']\n",
    "\n",
    "        with output:\n",
    "            clear_output()\n",
    "            print(f\"Link to review: https://www.sciencedirect.com/science/article/pii/{pii}\" , f\"Table No.: {tableNo}\")\n",
    "\n",
    "            # Widgets for user input\n",
    "            inputs = {}\n",
    "            for col in new_columns:\n",
    "                inputs[col] = widgets.Dropdown(\n",
    "                    options=[(f\"No (0)\", 0), (f\"Yes (1)\", 1)],\n",
    "                    description=f\"{col}:\",\n",
    "                    value=0,\n",
    "                    style={'description_width': 'initial'}\n",
    "                )\n",
    "\n",
    "            # Layout for the current row\n",
    "            box = widgets.VBox(list(inputs.values()))\n",
    "            display(box)\n",
    "\n",
    "            # Submit button\n",
    "            button = widgets.Button(description=\"Submit\")\n",
    "\n",
    "            def on_button_clicked(_):\n",
    "                # Save the input values into the DataFrame\n",
    "                for col, widget in inputs.items():\n",
    "                    df.at[i, col] = widget.value\n",
    "                df.to_csv(file_path, index=False)\n",
    "                print(f\"Row {i} completed and saved. Proceeding to the next one.\")\n",
    "                current_index[0] += 1\n",
    "                process_row()  # Process the next row\n",
    "\n",
    "            button.on_click(on_button_clicked)\n",
    "            display(button)\n",
    "\n",
    "    display(output)\n",
    "    process_row()\n",
    "\n",
    "# Example usage\n",
    "file_path = 'pii_groups.csv'\n",
    "new_columns = ['Present_in_table_itself', 'Present_in_table_wID', 'tables_Description', 'title_of_paper', 'Abstract', 'Introduction', 'Methodology', 'Results', 'ID_in_text', 'Equational_Composition']\n",
    "question = \"Do you want to set this value to 1?\"\n",
    "\n",
    "perform_manual_analysis(file_path, new_columns, question)\n"
   ]
  },
  {
   "cell_type": "markdown",
   "metadata": {},
   "source": [
    "issues  \n",
    "\"\"\"  \n",
    "S0272884221031710  \n",
    "S0022309314001793  \n",
    "S0022311523001824  \n",
    "S0022369701000816  \n",
    "S0272884223026500  \n",
    "S0022311504005367  \n",
    "S0272884223003978   \n",
    "\"\"\"  \n",
    "## Done till Row 14\n",
    "Row 14 completed and saved. Proceeding to the next one."
   ]
  },
  {
   "cell_type": "code",
   "execution_count": 4,
   "metadata": {},
   "outputs": [
    {
     "data": {
      "application/vnd.jupyter.widget-view+json": {
       "model_id": "5858c20931034d55bf0ca3b90d1b4958",
       "version_major": 2,
       "version_minor": 0
      },
      "text/plain": [
       "Output()"
      ]
     },
     "metadata": {},
     "output_type": "display_data"
    }
   ],
   "source": [
    "import pandas as pd\n",
    "from IPython.display import display, clear_output\n",
    "import ipywidgets as widgets\n",
    "\n",
    "def perform_manual_analysis(file_path, new_columns, question, index = 0):\n",
    "    # Load the dataframe\n",
    "    df = pd.read_csv(file_path)\n",
    "    # Initialize new columns with 0 if they don't already exist\n",
    "    for col in new_columns:\n",
    "        if col not in df.columns:\n",
    "            df[col] = 0\n",
    "\n",
    "    # Current index\n",
    "    current_index = [0]  # Use list to make it mutable\n",
    "\n",
    "    # Output widget to hold the interactive elements\n",
    "    output = widgets.Output()\n",
    "\n",
    "    def process_row():\n",
    "        i = current_index[0]\n",
    "        if i >= len(df):\n",
    "            with output:\n",
    "                clear_output()\n",
    "                print(\"All rows have been processed.\")\n",
    "            return\n",
    "\n",
    "        row = df.iloc[i]\n",
    "        pii = row['PII']\n",
    "        tableNo = row['Table']\n",
    "\n",
    "        with output:\n",
    "            clear_output()\n",
    "            print(f\"Link to review: https://www.sciencedirect.com/science/article/pii/{pii}\" , f\"Table No.: {tableNo}\")\n",
    "\n",
    "            # Widgets for user input\n",
    "            inputs = {}\n",
    "            for col in new_columns:\n",
    "                inputs[col] = widgets.Dropdown(\n",
    "                    options=[(f\"No (0)\", 0), (f\"Yes (1)\", 1)],\n",
    "                    description=f\"{col}:\",\n",
    "                    value=0,\n",
    "                    style={'description_width': 'initial'}\n",
    "                )\n",
    "\n",
    "            # Layout for the current row\n",
    "            box = widgets.VBox(list(inputs.values()))\n",
    "            display(box)\n",
    "\n",
    "            # Submit button\n",
    "            button = widgets.Button(description=\"Submit\")\n",
    "\n",
    "            def on_button_clicked(_):\n",
    "                # Save the input values into the DataFrame\n",
    "                for col, widget in inputs.items():\n",
    "                    df.at[i, col] = widget.value\n",
    "                df.to_csv(file_path, index=False)\n",
    "                print(f\"Row {i} completed and saved. Proceeding to the next one.\")\n",
    "                current_index[0] += 1\n",
    "                process_row()  # Process the next row\n",
    "\n",
    "            button.on_click(on_button_clicked)\n",
    "            display(button)\n",
    "\n",
    "    display(output)\n",
    "    process_row()\n",
    "\n",
    "# Example usage\n",
    "file_path = 'pii_groups.csv'\n",
    "new_columns = ['Present_in_table_itself', 'Present_in_table_wID', 'tables_Description', 'title_of_paper', 'Abstract', 'Introduction', 'Methodology', 'Results', 'ID_in_text', 'Equational_Composition']\n",
    "question = \"Do you want to set this value to 1?\"\n",
    "\n",
    "# index = int(input(\"Provide the starting index:\"))\n",
    "\n",
    "perform_manual_analysis(file_path, new_columns, question)#, index\n"
   ]
  },
  {
   "cell_type": "code",
   "execution_count": null,
   "metadata": {},
   "outputs": [],
   "source": []
  }
 ],
 "metadata": {
  "kernelspec": {
   "display_name": "Python 3",
   "language": "python",
   "name": "python3"
  },
  "language_info": {
   "codemirror_mode": {
    "name": "ipython",
    "version": 3
   },
   "file_extension": ".py",
   "mimetype": "text/x-python",
   "name": "python",
   "nbconvert_exporter": "python",
   "pygments_lexer": "ipython3",
   "version": "3.12.7"
  }
 },
 "nbformat": 4,
 "nbformat_minor": 2
}
